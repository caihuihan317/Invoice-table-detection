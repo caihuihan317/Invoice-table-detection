{
 "cells": [
  {
   "cell_type": "code",
   "execution_count": 28,
   "id": "d79ae9de",
   "metadata": {},
   "outputs": [],
   "source": [
    "import os\n",
    "import shutil\n",
    "from sklearn.model_selection import train_test_split"
   ]
  },
  {
   "cell_type": "code",
   "execution_count": 29,
   "id": "d8fce16f",
   "metadata": {},
   "outputs": [],
   "source": [
    "# Read images\n",
    "images = [os.path.join('images', x) for x in os.listdir('images')]\n",
    "\n",
    "images.sort()\n",
    "\n",
    "# Split the dataset into train-valid-test splits \n",
    "train_images, val_images = train_test_split(images, test_size = 0.2, random_state = 1)\n",
    "val_images, test_images = train_test_split(val_images, test_size = 0.5, random_state = 1)"
   ]
  },
  {
   "cell_type": "code",
   "execution_count": 30,
   "id": "35913b20",
   "metadata": {},
   "outputs": [
    {
     "data": {
      "text/plain": [
       "(501, 63, 63)"
      ]
     },
     "execution_count": 30,
     "metadata": {},
     "output_type": "execute_result"
    }
   ],
   "source": [
    "len(train_images), len(val_images), len(test_images)"
   ]
  },
  {
   "cell_type": "code",
   "execution_count": 32,
   "id": "91c16dea",
   "metadata": {},
   "outputs": [],
   "source": [
    "!mkdir train/ valid/ test/"
   ]
  },
  {
   "cell_type": "code",
   "execution_count": 33,
   "id": "b56a340a",
   "metadata": {},
   "outputs": [],
   "source": [
    "!mkdir train/images train/labels valid/images valid/labels test/images test/labels"
   ]
  },
  {
   "cell_type": "code",
   "execution_count": 34,
   "id": "470ec0aa",
   "metadata": {},
   "outputs": [],
   "source": [
    "#Utility function to move images \n",
    "def move_files_to_folder(list_of_files, destination_folder):\n",
    "    for f in list_of_files:\n",
    "        try:\n",
    "            shutil.copy(f, destination_folder)\n",
    "        except:\n",
    "            print(f)\n",
    "            assert False\n",
    "\n",
    "# Move the splits into their folders\n",
    "move_files_to_folder(train_images, 'train/images')\n",
    "move_files_to_folder(val_images, 'valid/images')\n",
    "move_files_to_folder(test_images, 'test/images')"
   ]
  },
  {
   "cell_type": "code",
   "execution_count": null,
   "id": "fde0bd1d",
   "metadata": {},
   "outputs": [],
   "source": []
  }
 ],
 "metadata": {
  "kernelspec": {
   "display_name": "Python 3 (ipykernel)",
   "language": "python",
   "name": "python3"
  },
  "language_info": {
   "codemirror_mode": {
    "name": "ipython",
    "version": 3
   },
   "file_extension": ".py",
   "mimetype": "text/x-python",
   "name": "python",
   "nbconvert_exporter": "python",
   "pygments_lexer": "ipython3",
   "version": "3.7.13"
  }
 },
 "nbformat": 4,
 "nbformat_minor": 5
}
