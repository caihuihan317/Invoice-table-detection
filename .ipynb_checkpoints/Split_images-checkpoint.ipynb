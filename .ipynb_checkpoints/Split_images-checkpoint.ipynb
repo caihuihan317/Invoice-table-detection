{
 "cells": [
  {
   "cell_type": "code",
   "execution_count": 3,
   "id": "d79ae9de",
   "metadata": {},
   "outputs": [],
   "source": [
    "import os\n",
    "from sklearn.model_selection import train_test_split"
   ]
  },
  {
   "cell_type": "code",
   "execution_count": 4,
   "id": "d8fce16f",
   "metadata": {},
   "outputs": [],
   "source": [
    "# Read images and annotations\n",
    "images = [os.path.join('images', x) for x in os.listdir('images')]\n",
    "annotations = [os.path.join('annotations', x) for x in os.listdir('annotations') if x[-3:] == \"txt\"]\n",
    "\n",
    "images.sort()\n",
    "annotations.sort()\n",
    "\n",
    "# Split the dataset into train-valid-test splits \n",
    "train_images, val_images, train_annotations, val_annotations = train_test_split(images, annotations, test_size = 0.2, random_state = 1)\n",
    "val_images, test_images, val_annotations, test_annotations = train_test_split(val_images, val_annotations, test_size = 0.5, random_state = 1)"
   ]
  },
  {
   "cell_type": "code",
   "execution_count": 7,
   "id": "35913b20",
   "metadata": {},
   "outputs": [
    {
     "data": {
      "text/plain": [
       "(500, 63, 63)"
      ]
     },
     "execution_count": 7,
     "metadata": {},
     "output_type": "execute_result"
    }
   ],
   "source": [
    "len(train_images), len(val_images), len(test_images)"
   ]
  },
  {
   "cell_type": "code",
   "execution_count": 8,
   "id": "09db0c7b",
   "metadata": {},
   "outputs": [
    {
     "data": {
      "text/plain": [
       "(500, 63, 63)"
      ]
     },
     "execution_count": 8,
     "metadata": {},
     "output_type": "execute_result"
    }
   ],
   "source": [
    "len(train_annotations), len(val_annotations), len(test_annotations)"
   ]
  },
  {
   "cell_type": "code",
   "execution_count": null,
   "id": "b56a340a",
   "metadata": {},
   "outputs": [],
   "source": [
    "!mkdir images/train images/val images/test annotations/train annotations/val annotations/test"
   ]
  }
 ],
 "metadata": {
  "kernelspec": {
   "display_name": "Python 3 (ipykernel)",
   "language": "python",
   "name": "python3"
  },
  "language_info": {
   "codemirror_mode": {
    "name": "ipython",
    "version": 3
   },
   "file_extension": ".py",
   "mimetype": "text/x-python",
   "name": "python",
   "nbconvert_exporter": "python",
   "pygments_lexer": "ipython3",
   "version": "3.9.7"
  }
 },
 "nbformat": 4,
 "nbformat_minor": 5
}
